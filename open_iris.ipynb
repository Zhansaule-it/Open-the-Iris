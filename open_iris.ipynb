from matplotlib import pyplot
def my_print_and_test_models(dataset):
    from sklearn.model_selection import train_test_split
    from sklearn.tree import DecisionTreeClassifier
    from sklearn.datasets import load_iris
    from sklearn.naive_bayes import GaussianNB
    from sklearn.neighbors import KNeighborsClassifier
    from sklearn.linear_model import LogisticRegression
    from sklearn.discriminant_analysis import LinearDiscriminantAnalysis
    from sklearn.svm import SVC
    from sklearn.model_selection import cross_val_score
    array = dataset.values
    X = array[:,0:4]
    y = array[:,4]
    X_train, X_validation, Y_train, Y_validation = train_test_split(X, y, test_size=0.20, random_state=1)
    # DecisionTree
    model = DecisionTreeClassifier()
    cv_results = cross_val_score(model,  X_train, Y_train, cv=5,scoring='accuracy')
    print('%s: %f (%f)' % ("DecisionTreeClassifier", cv_results.mean(), cv_results.std()))
    # GaussianNB
    model = GaussianNB()
    cv_results = cross_val_score(model,  X_train, Y_train, cv=5,scoring='accuracy')
    print('%s: %f (%f)' % ("GaussianNB", cv_results.mean(), cv_results.std()))
    # KNeighbors
    model = KNeighborsClassifier()
    cv_results = cross_val_score(model,  X_train, Y_train, cv=5,scoring='accuracy')
    print('%s: %f (%f)' % ("KNeighborsClassifier", cv_results.mean(), cv_results.std()))
    # LogisticRegression
    model = LogisticRegression(solver='liblinear', multi_class='ovr')
    cv_results = cross_val_score(model,  X_train, Y_train, cv=None,scoring='accuracy')
    print('%s: %f (%f)' % ("LogisticRegression", cv_results.mean(), cv_results.std()))
    # LinearDiscriminant
    model = LinearDiscriminantAnalysis()
    cv_results = cross_val_score(model,  X_train, Y_train, cv=5,scoring='accuracy')
    print('%s: %f (%f)' % ("LinearDiscriminantAnalysis", cv_results.mean(), cv_results.std()))
    # SVM
    model = SVC(gamma='auto')
    cv_results = cross_val_score(model,  X_train, Y_train, cv=5,scoring='accuracy')
    print('%s: %f (%f)' % ("SVM", cv_results.mean(), cv_results.std()))
def print_plot_multivariate(dataset):
    from pandas.plotting import scatter_matrix
    scatter_matrix(dataset)
    pyplot.show()
def print_plot_univariate(dataset):
    dataset.hist()
    pyplot.show()
def summarize_dataset(dataset):
    print(dataset.shape)
    print(dataset.head(10))
    print(dataset.describe())
    print(dataset.groupby('class').size())
def load_dataset():
    import pandas as pd
    url = 'iris.csv'
    dataset = pd.read_csv(url)
    summarize_dataset(dataset)
    print_plot_univariate(dataset)
    print_plot_multivariate(dataset)
    my_print_and_test_models(dataset)
load_dataset()
